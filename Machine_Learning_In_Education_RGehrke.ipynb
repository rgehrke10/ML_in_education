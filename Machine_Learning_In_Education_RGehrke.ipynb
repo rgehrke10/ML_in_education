{
 "cells": [
  {
   "cell_type": "markdown",
   "id": "c705b597",
   "metadata": {},
   "source": [
    "# Ricardo Gehrke\n",
    "\n",
    "### PROBLEM ###\n",
    "\n",
    "An educational institution is facing a high dropout rate directly associated with low academic performance/engagement. Develop a model using machine learning to identify which students are likely to drop out based on their participation in an optional assessment:\n",
    "\n",
    "Academic institution supports the idea that a student that does not take the SM exam will dropout. Therefore, we need to create a prediciton model to understand the students that will take the SM exam.\n",
    "\n",
    "Data dictionary:\n",
    "- DATA_HORA_AVALIACAO: date and time that the exam was taken\n",
    "- TIPO_AVALIACAO: type of exam\n",
    "- MATRICULA: student ID\n",
    "- DISCIPLINA: course ID\n",
    "- DATA_HORA_ACESSO: date and time of when the exam was accessed\n",
    "- TEMPO_ACESSO_MINUTOS: minutes taken to complete the exam\n"
   ]
  },
  {
   "cell_type": "markdown",
   "id": "1bfb2a56",
   "metadata": {
    "jp-MarkdownHeadingCollapsed": true
   },
   "source": [
    "# 1. Reading raw data"
   ]
  },
  {
   "cell_type": "code",
   "execution_count": null,
   "id": "076b05b3-e843-4b3b-9b5c-7cd6403a1ecf",
   "metadata": {},
   "outputs": [],
   "source": [
    "import pandas as pd"
   ]
  },
  {
   "cell_type": "code",
   "execution_count": 5,
   "id": "13b6c34d",
   "metadata": {},
   "outputs": [
    {
     "name": "stdout",
     "output_type": "stream",
     "text": [
      "<class 'pandas.core.frame.DataFrame'>\n",
      "RangeIndex: 1477825 entries, 0 to 1477824\n",
      "Data columns (total 2 columns):\n",
      " #   Column      Non-Null Count    Dtype \n",
      "---  ------      --------------    ----- \n",
      " 0   MATRICULA   1477825 non-null  int64 \n",
      " 1   DISCIPLINA  1477825 non-null  object\n",
      "dtypes: int64(1), object(1)\n",
      "memory usage: 22.5+ MB\n"
     ]
    }
   ],
   "source": [
    "df_aluno = pd.read_csv('C:\\\\Users\\\\rgehrke\\\\Downloads\\\\alunos_teste.csv')\n",
    "df_aluno.head\n",
    "df_aluno.info()"
   ]
  },
  {
   "cell_type": "code",
   "execution_count": 6,
   "id": "0eac29c8",
   "metadata": {},
   "outputs": [
    {
     "data": {
      "text/plain": [
       "<bound method NDFrame.head of          DATA_HORA_AVALIACAO TIPO_AVALIACAO     MATRICULA DISCIPLINA\n",
       "0        2022-03-02 17:24:00             EX  202008669936    EGT0047\n",
       "1        2022-03-03 14:01:49             EX  202008669936    ECJ0004\n",
       "2        2022-02-21 22:53:41             EX  202008669936    EGT0023\n",
       "3        2022-03-01 12:09:56             EX  202008669936    ARA1350\n",
       "4        2022-03-03 13:29:38             EX  202008669936    EGT0067\n",
       "...                      ...            ...           ...        ...\n",
       "5684770  2022-06-24 17:29:08            AVS  201408082896    GST1742\n",
       "5684771  2022-06-24 17:37:47            AVS  201802021779    GST1742\n",
       "5684772  2022-06-24 19:29:46             EX  202008504694    EGT0028\n",
       "5684773  2022-06-24 19:34:15             EX  202004215671    GST1674\n",
       "5684774  2022-06-24 23:26:38            AVS  201902059883    GST1742\n",
       "\n",
       "[5684775 rows x 4 columns]>"
      ]
     },
     "execution_count": 6,
     "metadata": {},
     "output_type": "execute_result"
    }
   ],
   "source": [
    "df_prova = pd.read_csv('C:\\\\Users\\\\rgehrke\\\\Downloads\\\\provas_teste.csv')\n",
    "df_prova.head"
   ]
  },
  {
   "cell_type": "code",
   "execution_count": 7,
   "id": "57c9270a",
   "metadata": {},
   "outputs": [
    {
     "data": {
      "text/plain": [
       "<bound method NDFrame.head of              DATA_HORA_ACESSO  TEMPO_ACESSO_MINUTOS     MATRICULA DISCIPLINA\n",
       "0         2022-02-15 00:01:31                     0  202001189726    EGT0019\n",
       "1         2022-02-16 14:05:00                    54  202001189726    EGT0019\n",
       "2         2022-02-20 11:32:13                    28  202001189726    EGT0019\n",
       "3         2022-03-12 23:51:10                     0  202001189726    EGT0019\n",
       "4         2022-03-23 17:57:53                   120  202001189726    EGT0019\n",
       "...                       ...                   ...           ...        ...\n",
       "10445335  2022-07-06 20:42:08                    24  202002438592    GST1711\n",
       "10445336  2022-07-06 20:45:23                     0  202204131013    EGT0070\n",
       "10445337  2022-07-06 22:22:03                     9  202102217491    EGT0068\n",
       "10445338  2022-07-06 23:01:36                     0  202001307249    GST1719\n",
       "10445339  2022-07-06 23:02:15                     0  202202631973    EEX0008\n",
       "\n",
       "[10445340 rows x 4 columns]>"
      ]
     },
     "execution_count": 7,
     "metadata": {},
     "output_type": "execute_result"
    }
   ],
   "source": [
    "df_acesso = pd.read_csv('C:\\\\Users\\\\rgehrke\\\\Downloads\\\\acessos_conteudo_teste.csv')\n",
    "df_acesso.head"
   ]
  },
  {
   "cell_type": "markdown",
   "id": "6a097be5",
   "metadata": {
    "jp-MarkdownHeadingCollapsed": true
   },
   "source": [
    "# Cleaning df_aluno"
   ]
  },
  {
   "cell_type": "code",
   "execution_count": 8,
   "id": "85b2d967",
   "metadata": {},
   "outputs": [],
   "source": [
    "_duplicadas1 = df_aluno.duplicated(subset=['MATRICULA', 'DISCIPLINA'])\n",
    "#Check for duplicates"
   ]
  },
  {
   "cell_type": "code",
   "execution_count": 9,
   "id": "ba1ae20b",
   "metadata": {},
   "outputs": [
    {
     "name": "stdout",
     "output_type": "stream",
     "text": [
      "Numero de linhas duplicadas: 171\n"
     ]
    }
   ],
   "source": [
    "num_duplicadas1 = _duplicadas1.sum()\n",
    "print(f\"Numero de linhas duplicadas: {num_duplicadas1}\")\n",
    "#The are 171 duplicated lines"
   ]
  },
  {
   "cell_type": "code",
   "execution_count": 10,
   "id": "fa07cd92",
   "metadata": {},
   "outputs": [
    {
     "name": "stdout",
     "output_type": "stream",
     "text": [
      "           MATRICULA DISCIPLINA\n",
      "245484  202203284304    EGT0009\n",
      "481859  202107133741    ARA1350\n",
      "582737  202201428392    EGT0004\n",
      "721381  201907152229    EEX0007\n",
      "876154  200701009457    EGT0070\n"
     ]
    }
   ],
   "source": [
    "df_duplicadas1 = df_aluno[_duplicadas1]\n",
    "print(df_duplicadas1.head())\n",
    "#print first few lines for reference"
   ]
  },
  {
   "cell_type": "code",
   "execution_count": 11,
   "id": "9630b290",
   "metadata": {},
   "outputs": [
    {
     "name": "stdout",
     "output_type": "stream",
     "text": [
      "MATRICULA     0\n",
      "DISCIPLINA    0\n",
      "dtype: int64\n"
     ]
    }
   ],
   "source": [
    "print(df_aluno.isnull().sum())\n",
    "#no null values"
   ]
  },
  {
   "cell_type": "markdown",
   "id": "f46daad4",
   "metadata": {
    "jp-MarkdownHeadingCollapsed": true
   },
   "source": [
    "# Cleaning df_prova"
   ]
  },
  {
   "cell_type": "code",
   "execution_count": 12,
   "id": "848e049a",
   "metadata": {},
   "outputs": [],
   "source": [
    "_duplicadas2 = df_prova.duplicated(subset=['DATA_HORA_AVALIACAO', 'TIPO_AVALIACAO', 'MATRICULA', 'DISCIPLINA'])\n",
    "#checking duplicates"
   ]
  },
  {
   "cell_type": "code",
   "execution_count": 13,
   "id": "e53bfc33",
   "metadata": {},
   "outputs": [
    {
     "name": "stdout",
     "output_type": "stream",
     "text": [
      "Numero de linhas duplicadas: 2494\n"
     ]
    }
   ],
   "source": [
    "num_duplicadas2 = _duplicadas2.sum()\n",
    "print(f\"Numero de linhas duplicadas: {num_duplicadas2}\")\n",
    "#2494 duplicates"
   ]
  },
  {
   "cell_type": "code",
   "execution_count": 14,
   "id": "bc7ebbbb",
   "metadata": {},
   "outputs": [],
   "source": [
    "df_prova = df_prova.drop_duplicates(subset=['DATA_HORA_AVALIACAO', 'TIPO_AVALIACAO', 'MATRICULA', 'DISCIPLINA'], keep='first')\n"
   ]
  },
  {
   "cell_type": "code",
   "execution_count": 15,
   "id": "f722cfbd",
   "metadata": {},
   "outputs": [
    {
     "data": {
      "text/plain": [
       "<bound method NDFrame.head of          DATA_HORA_AVALIACAO TIPO_AVALIACAO     MATRICULA DISCIPLINA\n",
       "0        2022-03-02 17:24:00             EX  202008669936    EGT0047\n",
       "1        2022-03-03 14:01:49             EX  202008669936    ECJ0004\n",
       "2        2022-02-21 22:53:41             EX  202008669936    EGT0023\n",
       "3        2022-03-01 12:09:56             EX  202008669936    ARA1350\n",
       "4        2022-03-03 13:29:38             EX  202008669936    EGT0067\n",
       "...                      ...            ...           ...        ...\n",
       "5684770  2022-06-24 17:29:08            AVS  201408082896    GST1742\n",
       "5684771  2022-06-24 17:37:47            AVS  201802021779    GST1742\n",
       "5684772  2022-06-24 19:29:46             EX  202008504694    EGT0028\n",
       "5684773  2022-06-24 19:34:15             EX  202004215671    GST1674\n",
       "5684774  2022-06-24 23:26:38            AVS  201902059883    GST1742\n",
       "\n",
       "[5682281 rows x 4 columns]>"
      ]
     },
     "execution_count": 15,
     "metadata": {},
     "output_type": "execute_result"
    }
   ],
   "source": [
    "df_prova.head"
   ]
  },
  {
   "cell_type": "code",
   "execution_count": 16,
   "id": "33997930",
   "metadata": {},
   "outputs": [
    {
     "name": "stdout",
     "output_type": "stream",
     "text": [
      "DATA_HORA_AVALIACAO    0\n",
      "TIPO_AVALIACAO         0\n",
      "MATRICULA              0\n",
      "DISCIPLINA             0\n",
      "dtype: int64\n"
     ]
    }
   ],
   "source": [
    "print(df_prova.isnull().sum())\n"
   ]
  },
  {
   "cell_type": "markdown",
   "id": "16195c31",
   "metadata": {
    "jp-MarkdownHeadingCollapsed": true
   },
   "source": [
    "# Cleaning df_acesso"
   ]
  },
  {
   "cell_type": "code",
   "execution_count": 17,
   "id": "7e3112fb",
   "metadata": {},
   "outputs": [],
   "source": [
    "_duplicadas3 = df_acesso.duplicated(subset=['DATA_HORA_ACESSO', 'TEMPO_ACESSO_MINUTOS', 'MATRICULA', 'DISCIPLINA'])"
   ]
  },
  {
   "cell_type": "code",
   "execution_count": 18,
   "id": "64d461bb",
   "metadata": {},
   "outputs": [
    {
     "name": "stdout",
     "output_type": "stream",
     "text": [
      "Numero de linhas duplicadas: 359288\n"
     ]
    }
   ],
   "source": [
    "num_duplicadas3 = _duplicadas3.sum()\n",
    "print(f\"Numero de linhas duplicadas: {num_duplicadas3}\")\n",
    "#359288 duplicates"
   ]
  },
  {
   "cell_type": "code",
   "execution_count": 19,
   "id": "6fbd4221",
   "metadata": {},
   "outputs": [],
   "source": [
    "df_acesso = df_acesso.drop_duplicates(subset=['DATA_HORA_ACESSO', 'TEMPO_ACESSO_MINUTOS', 'MATRICULA', 'DISCIPLINA'], keep='first')"
   ]
  },
  {
   "cell_type": "code",
   "execution_count": 20,
   "id": "a854de79",
   "metadata": {},
   "outputs": [
    {
     "data": {
      "text/plain": [
       "<bound method NDFrame.head of              DATA_HORA_ACESSO  TEMPO_ACESSO_MINUTOS     MATRICULA DISCIPLINA\n",
       "0         2022-02-15 00:01:31                     0  202001189726    EGT0019\n",
       "1         2022-02-16 14:05:00                    54  202001189726    EGT0019\n",
       "2         2022-02-20 11:32:13                    28  202001189726    EGT0019\n",
       "3         2022-03-12 23:51:10                     0  202001189726    EGT0019\n",
       "4         2022-03-23 17:57:53                   120  202001189726    EGT0019\n",
       "...                       ...                   ...           ...        ...\n",
       "10445335  2022-07-06 20:42:08                    24  202002438592    GST1711\n",
       "10445336  2022-07-06 20:45:23                     0  202204131013    EGT0070\n",
       "10445337  2022-07-06 22:22:03                     9  202102217491    EGT0068\n",
       "10445338  2022-07-06 23:01:36                     0  202001307249    GST1719\n",
       "10445339  2022-07-06 23:02:15                     0  202202631973    EEX0008\n",
       "\n",
       "[10086052 rows x 4 columns]>"
      ]
     },
     "execution_count": 20,
     "metadata": {},
     "output_type": "execute_result"
    }
   ],
   "source": [
    "df_acesso.head"
   ]
  },
  {
   "cell_type": "code",
   "execution_count": 21,
   "id": "bdb96ae7",
   "metadata": {},
   "outputs": [
    {
     "name": "stdout",
     "output_type": "stream",
     "text": [
      "DATA_HORA_ACESSO        0\n",
      "TEMPO_ACESSO_MINUTOS    0\n",
      "MATRICULA               0\n",
      "DISCIPLINA              0\n",
      "dtype: int64\n"
     ]
    }
   ],
   "source": [
    "print(df_acesso.isnull().sum())"
   ]
  },
  {
   "cell_type": "markdown",
   "id": "529eef87",
   "metadata": {
    "jp-MarkdownHeadingCollapsed": true
   },
   "source": [
    "# 2. Visualization"
   ]
  },
  {
   "cell_type": "code",
   "execution_count": 22,
   "id": "c3952d1e",
   "metadata": {},
   "outputs": [],
   "source": [
    "import seaborn as sns\n",
    "import matplotlib.pyplot as plt"
   ]
  },
  {
   "cell_type": "markdown",
   "id": "2c90edf1",
   "metadata": {
    "jp-MarkdownHeadingCollapsed": true
   },
   "source": [
    "# Visualizing df_aluno"
   ]
  },
  {
   "cell_type": "code",
   "execution_count": 23,
   "id": "fdeeff12",
   "metadata": {},
   "outputs": [
    {
     "name": "stdout",
     "output_type": "stream",
     "text": [
      "Quantidade de disciplinas diferentes: 1092\n",
      "Quantidade de matrículas diferentes: 289635\n"
     ]
    }
   ],
   "source": [
    "#Understand with how many courses and students we are working with\n",
    "print(f\"Quantidade de disciplinas diferentes: {df_aluno['DISCIPLINA'].nunique()}\")\n",
    "print(f\"Quantidade de matrículas diferentes: {df_aluno['MATRICULA'].nunique()}\")"
   ]
  },
  {
   "cell_type": "markdown",
   "id": "ad908538",
   "metadata": {},
   "source": [
    "High value, therefore, we will limit the number of courses and students in visualization"
   ]
  },
  {
   "cell_type": "code",
   "execution_count": 24,
   "id": "e364768e",
   "metadata": {},
   "outputs": [
    {
     "name": "stderr",
     "output_type": "stream",
     "text": [
      "C:\\Users\\rgehrke\\AppData\\Local\\Temp\\ipykernel_9208\\3493305127.py:9: FutureWarning: \n",
      "\n",
      "Passing `palette` without assigning `hue` is deprecated and will be removed in v0.14.0. Assign the `y` variable to `hue` and set `legend=False` for the same effect.\n",
      "\n",
      "  sns.barplot(x=top_10_disciplinas.values, y=top_10_disciplinas.index, palette='Blues_d')\n"
     ]
    },
    {
     "data": {
      "image/png": "[encoded data removed]",
      "text/plain": [
       "<Figure size 1000x500 with 1 Axes>"
      ]
     },
     "metadata": {},
     "output_type": "display_data"
    }
   ],
   "source": [
    "#Top 10 courses with students registrated\n",
    "matriculas_por_disciplina = df_aluno['DISCIPLINA'].value_counts()\n",
    "\n",
    "#selecting the top 10\n",
    "top_10_disciplinas = matriculas_por_disciplina.head(10)\n",
    "\n",
    "#bar graph\n",
    "plt.figure(figsize=(10, 5))\n",
    "sns.barplot(x=top_10_disciplinas.values, y=top_10_disciplinas.index, palette='Blues_d')\n",
    "plt.title('Top 10 Disciplinas com Mais Matrículas Associadas', fontsize=16)\n",
    "plt.xlabel('Número de Matrículas', fontsize=12)\n",
    "plt.ylabel('Disciplinas', fontsize=12)\n",
    "plt.show()"
   ]
  },
  {
   "cell_type": "markdown",
   "id": "4b2a1446",
   "metadata": {},
   "source": [
    "Questions and insights:\n",
    "\n",
    "EGT0004 has the highest number of enrolled students. Is the number of enrollments related to dropout rates?\n",
    "EGT0004 has high demand, but is it being properly offered? Are there courses with low demand?\n",
    "Since high-demand courses involve more students, the top 10 courses could become the focus of the research."
   ]
  },
  {
   "cell_type": "markdown",
   "id": "c22d6303",
   "metadata": {
    "jp-MarkdownHeadingCollapsed": true
   },
   "source": [
    "# Visualizing df_prova"
   ]
  },
  {
   "cell_type": "code",
   "execution_count": 25,
   "id": "f3282c11",
   "metadata": {
    "scrolled": true
   },
   "outputs": [
    {
     "data": {
      "text/plain": [
       "<Axes: title={'center': 'Distribuição dos Tipos de Avaliação'}, xlabel='TIPO_AVALIACAO'>"
      ]
     },
     "execution_count": 25,
     "metadata": {},
     "output_type": "execute_result"
    },
    {
     "data": {
      "image/png": "[encoded data removed]",
      "text/plain": [
       "<Figure size 1200x500 with 1 Axes>"
      ]
     },
     "metadata": {},
     "output_type": "display_data"
    }
   ],
   "source": [
    "df_prova['TIPO_AVALIACAO'].value_counts().plot(kind='bar', figsize=(12, 5), title='Distribuição dos Tipos de Avaliação')"
   ]
  },
  {
   "cell_type": "markdown",
   "id": "332e7788",
   "metadata": {},
   "source": [
    "According to the graph above, almost 1.5 million SM were conducted. EX was the most frequently performed type of assessment. The graph is inconclusive but provides an overall view of the data."
   ]
  },
  {
   "cell_type": "code",
   "execution_count": 26,
   "id": "450fff17",
   "metadata": {},
   "outputs": [
    {
     "data": {
      "text/plain": [
       "<Axes: title={'center': 'Top 10 Disciplinas com Mais Avaliações'}, xlabel='DISCIPLINA'>"
      ]
     },
     "execution_count": 26,
     "metadata": {},
     "output_type": "execute_result"
    },
    {
     "data": {
      "image/png": "[encoded data removed]",
      "text/plain": [
       "<Figure size 1000x500 with 1 Axes>"
      ]
     },
     "metadata": {},
     "output_type": "display_data"
    }
   ],
   "source": [
    "df_prova['DISCIPLINA'].value_counts().head(10).plot(kind='bar', figsize=(10, 5), title='Top 10 Disciplinas com Mais Avaliações')"
   ]
  },
  {
   "cell_type": "markdown",
   "id": "06ae6233",
   "metadata": {},
   "source": [
    "GST1711 and ETG0004 appear as the courses with more exams conducted."
   ]
  },
  {
   "cell_type": "code",
   "execution_count": 27,
   "id": "ab22edba",
   "metadata": {},
   "outputs": [
    {
     "data": {
      "text/plain": [
       "<Axes: title={'center': 'Proporção dos Tipos de Avaliação'}, ylabel='count'>"
      ]
     },
     "execution_count": 27,
     "metadata": {},
     "output_type": "execute_result"
    },
    {
     "data": {
      "image/png": "[encoded data removed]",
      "text/plain": [
       "<Figure size 800x800 with 1 Axes>"
      ]
     },
     "metadata": {},
     "output_type": "display_data"
    }
   ],
   "source": [
    "df_prova['TIPO_AVALIACAO'].value_counts().plot(kind='pie', autopct='%1.1f%%', figsize=(8, 8), title='Proporção dos Tipos de Avaliação')\n"
   ]
  },
  {
   "cell_type": "markdown",
   "id": "2b2967fc",
   "metadata": {},
   "source": [
    "Once again, obtaining a general view of the raw data, SM accounts for 23.9% of the total assessments."
   ]
  },
  {
   "cell_type": "code",
   "execution_count": 28,
   "id": "c31ed177",
   "metadata": {},
   "outputs": [
    {
     "data": {
      "text/plain": [
       "<Axes: title={'center': 'Distribuição dos Tipos de Avaliação por Disciplina'}, xlabel='DISCIPLINA'>"
      ]
     },
     "execution_count": 28,
     "metadata": {},
     "output_type": "execute_result"
    },
    {
     "data": {
      "image/png": "[encoded data removed]",
      "text/plain": [
       "<Figure size 1200x600 with 1 Axes>"
      ]
     },
     "metadata": {},
     "output_type": "display_data"
    }
   ],
   "source": [
    "top_disciplinas = df_prova['DISCIPLINA'].value_counts().head(10).index\n",
    "filtered_df = df_prova[df_prova['DISCIPLINA'].isin(top_disciplinas)]\n",
    "pd.crosstab(filtered_df['DISCIPLINA'], filtered_df['TIPO_AVALIACAO']).plot(kind='bar', stacked=True, figsize=(12, 6), title='Distribuição dos Tipos de Avaliação por Disciplina')"
   ]
  },
  {
   "cell_type": "markdown",
   "id": "aac429ea",
   "metadata": {},
   "source": [
    "Relationship between the top 10 courses and their respective assessments conducted."
   ]
  },
  {
   "cell_type": "markdown",
   "id": "d57d16d4",
   "metadata": {},
   "source": [
    "Questions and insights:\n",
    "\n",
    "Courses with a high number of enrolled students also have a high number of assessments conducted.\n",
    "However, a course with a high number of assessments does not necessarily indicate a high dropout rate, as seen with EGT0004, which has a high number of SM. More concerning courses would be CEL1332 or GST1711, for example."
   ]
  },
  {
   "cell_type": "markdown",
   "id": "c3223e05",
   "metadata": {
    "jp-MarkdownHeadingCollapsed": true
   },
   "source": [
    "# Visualization df_acesso"
   ]
  },
  {
   "cell_type": "code",
   "execution_count": 29,
   "id": "a3aea0da",
   "metadata": {},
   "outputs": [
    {
     "name": "stdout",
     "output_type": "stream",
     "text": [
      "DISCIPLINA\n",
      "EGT0070    620172\n",
      "EGT0004    479598\n",
      "EEX0005    308068\n",
      "GST1711    298008\n",
      "EGT0003    200742\n",
      "EGT0001    185155\n",
      "EEX0006    166931\n",
      "EEL0004    155716\n",
      "ARA1419    134475\n",
      "EGT0009    127197\n",
      "dtype: int64\n"
     ]
    },
    {
     "data": {
      "text/plain": [
       "<Axes: title={'center': 'Top 10 Disciplinas com Mais Acessos'}, xlabel='DISCIPLINA'>"
      ]
     },
     "execution_count": 29,
     "metadata": {},
     "output_type": "execute_result"
    },
    {
     "data": {
      "image/png": "[encoded data removed]",
      "text/plain": [
       "<Figure size 1200x500 with 1 Axes>"
      ]
     },
     "metadata": {},
     "output_type": "display_data"
    }
   ],
   "source": [
    "#groupby discipline\n",
    "top_disciplinas_acessos = df_acesso.groupby('DISCIPLINA').size().sort_values(ascending=False).head(10)\n",
    "#print\n",
    "print(top_disciplinas_acessos)\n",
    "#top 10 courses with more access\n",
    "top_disciplinas_acessos.plot(kind='bar', figsize=(12, 5), title='Top 10 Disciplinas com Mais Acessos', color='skyblue')"
   ]
  },
  {
   "cell_type": "markdown",
   "id": "7fbb5a4c",
   "metadata": {
    "jp-MarkdownHeadingCollapsed": true
   },
   "source": [
    "# 3. Grouping data by student-course"
   ]
  },
  {
   "cell_type": "markdown",
   "id": "93b31d11",
   "metadata": {},
   "source": [
    "Focusing on the target—students who will not take the SM assessment and will consequently drop out—features will be created:\n",
    "\n",
    "total_acesso: Total number of accesses per enrollment\n",
    "tempo_acesso: Sum of access time per enrollment\n",
    "av_realizadas: Total number of assessments completed per enrollment"
   ]
  },
  {
   "cell_type": "code",
   "execution_count": 30,
   "id": "da992ba2",
   "metadata": {},
   "outputs": [
    {
     "name": "stdout",
     "output_type": "stream",
     "text": [
      "             DISCIPLINA  TOTAL_ACESSOS  TEMPO_ACESSOS  AVALIACOES_REALIZADAS\n",
      "MATRICULA                                                                   \n",
      "202204035316    DGT0336            0.0            0.0                   13.0\n",
      "202110113321    CCJ0164           15.0          331.0                    1.0\n",
      "202001682635    DGT0002           25.0          434.0                    4.0\n",
      "202204035316    EEX0002            0.0            0.0                   13.0\n",
      "202201387645    CCE2063           63.0         3313.0                   27.0\n"
     ]
    }
   ],
   "source": [
    "#Total access per student ID\n",
    "total_acessos = df_acesso.groupby('MATRICULA').size()\n",
    "\n",
    "#Sum of access time per student ID\n",
    "tempo_acesso = df_acesso.groupby('MATRICULA')['TEMPO_ACESSO_MINUTOS'].sum()\n",
    "\n",
    "#Amount of exams conducted by student ID\n",
    "av_realizadas = df_prova.groupby('MATRICULA').size()\n",
    "\n",
    "#Merge of features\n",
    "df_features = df_aluno.copy()\n",
    "df_features = df_features.set_index('MATRICULA')\n",
    "df_features['TOTAL_ACESSOS'] = total_acessos\n",
    "df_features['TEMPO_ACESSOS'] = tempo_acesso\n",
    "df_features['AVALIACOES_REALIZADAS'] = av_realizadas\n",
    "\n",
    "\n",
    "#Indicate 0 instead of NaN\n",
    "df_features = df_features.fillna(0)\n",
    "\n",
    "#Print final manipulated data frame\n",
    "print(df_features.head())"
   ]
  },
  {
   "cell_type": "markdown",
   "id": "b79c2929",
   "metadata": {},
   "source": [
    "Establishing the target:\n",
    "Students who took the SM assessment will be labeled as 1, while those who did not take the SM assessment will be labeled as 0."
   ]
  },
  {
   "cell_type": "code",
   "execution_count": 31,
   "id": "0ea4dfff",
   "metadata": {},
   "outputs": [
    {
     "name": "stdout",
     "output_type": "stream",
     "text": [
      "SM_REALIZADA\n",
      "1    1076424\n",
      "0     401401\n",
      "Name: count, dtype: int64\n"
     ]
    }
   ],
   "source": [
    "#Fitler only student who have taken SM\n",
    "alunos_com_SM = df_prova[df_prova['TIPO_AVALIACAO'] == 'SM']['MATRICULA'].unique()\n",
    "\n",
    "#new column SM_REALIZADA: 1 in case they took SM, 0 if they did not\n",
    "df_aluno['SM_REALIZADA'] = df_aluno['MATRICULA'].apply(lambda x: 1 if x in alunos_com_SM else 0)\n",
    "\n",
    "#verify proportion of SM taken\n",
    "print(df_aluno['SM_REALIZADA'].value_counts())"
   ]
  },
  {
   "cell_type": "markdown",
   "id": "04ce8b49",
   "metadata": {
    "jp-MarkdownHeadingCollapsed": true
   },
   "source": [
    "# 4. Merging all data frames"
   ]
  },
  {
   "cell_type": "code",
   "execution_count": 32,
   "id": "5400c851",
   "metadata": {},
   "outputs": [],
   "source": [
    "#encounter unique combination of student-course IDs, this will drop duplicates\n",
    "keys = df_aluno[['MATRICULA', 'DISCIPLINA']].drop_duplicates()\n",
    "\n",
    "#Filter df_acesso based on the key student ID and course ID\n",
    "df_acesso_filtered = df_acesso.merge(keys, on=['MATRICULA', 'DISCIPLINA'], how='inner')\n",
    "\n",
    "#repeat step above with different data frame\n",
    "df_prova_filtered = df_prova.merge(keys, on=['MATRICULA', 'DISCIPLINA'], how='inner')\n",
    "\n",
    "#repeat stpe above with df_features\n",
    "df_features_filtered = df_features.merge(keys, on=['MATRICULA', 'DISCIPLINA'], how='inner')\n"
   ]
  },
  {
   "cell_type": "code",
   "execution_count": 33,
   "id": "c5f3f97c-451a-47bb-a0a5-5fc8c351ef9b",
   "metadata": {},
   "outputs": [],
   "source": [
    "#Merging\n",
    "df_merged = pd.merge(\n",
    "    df_aluno,\n",
    "    df_acesso_filtered,\n",
    "    on=['MATRICULA', 'DISCIPLINA'],\n",
    "    how='left'\n",
    ")\n",
    "\n",
    "df_merged = pd.merge(\n",
    "    df_merged,\n",
    "    df_prova_filtered,\n",
    "    on=['MATRICULA', 'DISCIPLINA'],\n",
    "    how='left'\n",
    ")\n",
    "\n",
    "df_merged = pd.merge(\n",
    "    df_merged,\n",
    "    df_features_filtered,\n",
    "    on=['MATRICULA', 'DISCIPLINA'],\n",
    "    how='left'\n",
    ")\n"
   ]
  },
  {
   "cell_type": "code",
   "execution_count": 34,
   "id": "a6d063da-7795-44db-a8fc-d0385727568b",
   "metadata": {},
   "outputs": [
    {
     "data": {
      "text/html": [
       "<div>\n",
       "<style scoped>\n",
       "    .dataframe tbody tr th:only-of-type {\n",
       "        vertical-align: middle;\n",
       "    }\n",
       "\n",
       "    .dataframe tbody tr th {\n",
       "        vertical-align: top;\n",
       "    }\n",
       "\n",
       "    .dataframe thead th {\n",
       "        text-align: right;\n",
       "    }\n",
       "</style>\n",
       "<table border=\"1\" class=\"dataframe\">\n",
       "  <thead>\n",
       "    <tr style=\"text-align: right;\">\n",
       "      <th></th>\n",
       "      <th>MATRICULA</th>\n",
       "      <th>DISCIPLINA</th>\n",
       "      <th>SM_REALIZADA</th>\n",
       "      <th>DATA_HORA_ACESSO</th>\n",
       "      <th>TEMPO_ACESSO_MINUTOS</th>\n",
       "      <th>DATA_HORA_AVALIACAO</th>\n",
       "      <th>TIPO_AVALIACAO</th>\n",
       "      <th>TOTAL_ACESSOS</th>\n",
       "      <th>TEMPO_ACESSOS</th>\n",
       "      <th>AVALIACOES_REALIZADAS</th>\n",
       "    </tr>\n",
       "  </thead>\n",
       "  <tbody>\n",
       "    <tr>\n",
       "      <th>0</th>\n",
       "      <td>202204035316</td>\n",
       "      <td>DGT0336</td>\n",
       "      <td>1</td>\n",
       "      <td>NaN</td>\n",
       "      <td>NaN</td>\n",
       "      <td>NaN</td>\n",
       "      <td>NaN</td>\n",
       "      <td>0.0</td>\n",
       "      <td>0.0</td>\n",
       "      <td>13.0</td>\n",
       "    </tr>\n",
       "    <tr>\n",
       "      <th>1</th>\n",
       "      <td>202110113321</td>\n",
       "      <td>CCJ0164</td>\n",
       "      <td>0</td>\n",
       "      <td>NaN</td>\n",
       "      <td>NaN</td>\n",
       "      <td>NaN</td>\n",
       "      <td>NaN</td>\n",
       "      <td>15.0</td>\n",
       "      <td>331.0</td>\n",
       "      <td>1.0</td>\n",
       "    </tr>\n",
       "    <tr>\n",
       "      <th>2</th>\n",
       "      <td>202001682635</td>\n",
       "      <td>DGT0002</td>\n",
       "      <td>1</td>\n",
       "      <td>NaN</td>\n",
       "      <td>NaN</td>\n",
       "      <td>NaN</td>\n",
       "      <td>NaN</td>\n",
       "      <td>25.0</td>\n",
       "      <td>434.0</td>\n",
       "      <td>4.0</td>\n",
       "    </tr>\n",
       "    <tr>\n",
       "      <th>3</th>\n",
       "      <td>202204035316</td>\n",
       "      <td>EEX0002</td>\n",
       "      <td>1</td>\n",
       "      <td>NaN</td>\n",
       "      <td>NaN</td>\n",
       "      <td>NaN</td>\n",
       "      <td>NaN</td>\n",
       "      <td>0.0</td>\n",
       "      <td>0.0</td>\n",
       "      <td>13.0</td>\n",
       "    </tr>\n",
       "    <tr>\n",
       "      <th>4</th>\n",
       "      <td>202201387645</td>\n",
       "      <td>CCE2063</td>\n",
       "      <td>1</td>\n",
       "      <td>2022-04-19 12:17:18</td>\n",
       "      <td>58.0</td>\n",
       "      <td>2022-04-29 09:00:43</td>\n",
       "      <td>EX</td>\n",
       "      <td>63.0</td>\n",
       "      <td>3313.0</td>\n",
       "      <td>27.0</td>\n",
       "    </tr>\n",
       "  </tbody>\n",
       "</table>\n",
       "</div>"
      ],
      "text/plain": [
       "      MATRICULA DISCIPLINA  SM_REALIZADA     DATA_HORA_ACESSO  \\\n",
       "0  202204035316    DGT0336             1                  NaN   \n",
       "1  202110113321    CCJ0164             0                  NaN   \n",
       "2  202001682635    DGT0002             1                  NaN   \n",
       "3  202204035316    EEX0002             1                  NaN   \n",
       "4  202201387645    CCE2063             1  2022-04-19 12:17:18   \n",
       "\n",
       "   TEMPO_ACESSO_MINUTOS  DATA_HORA_AVALIACAO TIPO_AVALIACAO  TOTAL_ACESSOS  \\\n",
       "0                   NaN                  NaN            NaN            0.0   \n",
       "1                   NaN                  NaN            NaN           15.0   \n",
       "2                   NaN                  NaN            NaN           25.0   \n",
       "3                   NaN                  NaN            NaN            0.0   \n",
       "4                  58.0  2022-04-29 09:00:43             EX           63.0   \n",
       "\n",
       "   TEMPO_ACESSOS  AVALIACOES_REALIZADAS  \n",
       "0            0.0                   13.0  \n",
       "1          331.0                    1.0  \n",
       "2          434.0                    4.0  \n",
       "3            0.0                   13.0  \n",
       "4         3313.0                   27.0  "
      ]
     },
     "execution_count": 34,
     "metadata": {},
     "output_type": "execute_result"
    }
   ],
   "source": [
    "df_merged.head()\n",
    "#visualize result in table"
   ]
  },
  {
   "cell_type": "code",
   "execution_count": 35,
   "id": "00988f52-3cc4-479a-b37f-36b897bf0c6e",
   "metadata": {},
   "outputs": [
    {
     "name": "stdout",
     "output_type": "stream",
     "text": [
      "<class 'pandas.core.frame.DataFrame'>\n",
      "RangeIndex: 80974227 entries, 0 to 80974226\n",
      "Data columns (total 10 columns):\n",
      " #   Column                 Dtype  \n",
      "---  ------                 -----  \n",
      " 0   MATRICULA              int64  \n",
      " 1   DISCIPLINA             object \n",
      " 2   SM_REALIZADA           int64  \n",
      " 3   DATA_HORA_ACESSO       object \n",
      " 4   TEMPO_ACESSO_MINUTOS   float64\n",
      " 5   DATA_HORA_AVALIACAO    object \n",
      " 6   TIPO_AVALIACAO         object \n",
      " 7   TOTAL_ACESSOS          float64\n",
      " 8   TEMPO_ACESSOS          float64\n",
      " 9   AVALIACOES_REALIZADAS  float64\n",
      "dtypes: float64(4), int64(2), object(4)\n",
      "memory usage: 6.0+ GB\n"
     ]
    }
   ],
   "source": [
    "df_merged.info()\n",
    "#info about new data frame"
   ]
  },
  {
   "cell_type": "code",
   "execution_count": 36,
   "id": "eabd3ccf-c600-4294-ad20-c78edd86b38f",
   "metadata": {},
   "outputs": [
    {
     "name": "stderr",
     "output_type": "stream",
     "text": [
      "C:\\Users\\rgehrke\\AppData\\Local\\Temp\\ipykernel_9208\\681914975.py:3: DeprecationWarning: DataFrameGroupBy.apply operated on the grouping columns. This behavior is deprecated, and in a future version of pandas the grouping columns will be excluded from the operation. Either pass `include_groups=False` to exclude the groupings or explicitly select the grouping columns after groupby to silence this warning.\n",
      "  amostra = df_merged.groupby('SM_REALIZADA', group_keys=False).apply(\n"
     ]
    },
    {
     "name": "stdout",
     "output_type": "stream",
     "text": [
      "Tamanho da amostra: (8097423, 10)\n"
     ]
    }
   ],
   "source": [
    "#Stratified Sampling Based on the Target (SM_REALIZADA)\n",
    "#A stratified sample based on the target means that it will maintain the same proportion of students who took the SM as in the original dataframe.\n",
    "amostra = df_merged.groupby('SM_REALIZADA', group_keys=False).apply(\n",
    "    lambda x: x.sample(frac=0.10, random_state=42)  # using 1% as an example\n",
    ")\n",
    "\n",
    "#reseting index\n",
    "amostra = amostra.reset_index(drop=True)\n",
    "\n",
    "#verifying the sample size\n",
    "print(\"Tamanho da amostra:\", amostra.shape)"
   ]
  },
  {
   "cell_type": "code",
   "execution_count": 37,
   "id": "afbc5ff5-724b-47ae-9cc2-1316e6f04d79",
   "metadata": {},
   "outputs": [
    {
     "name": "stdout",
     "output_type": "stream",
     "text": [
      "DISCIPLINA\n",
      "GST1711    380740\n",
      "EGT0070    201447\n",
      "EGT0004    166334\n",
      "CEL0466    149659\n",
      "GST2023    140088\n",
      "CEL0930    135829\n",
      "CCJ0279    120161\n",
      "EEX0005     98365\n",
      "CEL0242     88526\n",
      "CEL1390     88014\n",
      "dtype: int64\n"
     ]
    },
    {
     "data": {
      "text/plain": [
       "<Axes: title={'center': 'Top 10 Disciplinas com Mais Acessos'}, xlabel='DISCIPLINA'>"
      ]
     },
     "execution_count": 37,
     "metadata": {},
     "output_type": "execute_result"
    },
    {
     "data": {
      "image/png": "[encoded data removed]",
      "text/plain": [
       "<Figure size 1200x500 with 1 Axes>"
      ]
     },
     "metadata": {},
     "output_type": "display_data"
    }
   ],
   "source": [
    "#Groupby\n",
    "top_disciplinas_acessos1 = amostra.groupby('DISCIPLINA').size().sort_values(ascending=False).head(10)\n",
    "print(top_disciplinas_acessos1)\n",
    "#Plot top 10 courses with more accesses\n",
    "top_disciplinas_acessos1.plot(kind='bar', figsize=(12, 5), title='Top 10 Disciplinas com Mais Acessos', color='skyblue')"
   ]
  },
  {
   "cell_type": "code",
   "execution_count": 38,
   "id": "f58c5dbb-97c2-4fc9-963c-fa4f1904d6c3",
   "metadata": {},
   "outputs": [
    {
     "name": "stdout",
     "output_type": "stream",
     "text": [
      "SM_REALIZADA\n",
      "1    7887048\n",
      "0     210375\n",
      "Name: count, dtype: int64\n"
     ]
    }
   ],
   "source": [
    "#count valeus of SM\n",
    "sm_counts = amostra['SM_REALIZADA'].value_counts()\n",
    "\n",
    "print(sm_counts)"
   ]
  },
  {
   "cell_type": "markdown",
   "id": "c748d078-fc1f-4558-a124-f7fa34ee518d",
   "metadata": {},
   "source": [
    "Even with the three tables merged and a sample created, it is not guaranteed that this sample will reflect the exact numbers presented in the df_merged. Therefore, columns that require duplicating student-course combinations will be excluded to keep only:\n",
    "\n",
    "The student-course unit.\n",
    "The target SM_REALIZADA.\n",
    "The features: total access, access time, and number of assessments completed."
   ]
  },
  {
   "cell_type": "code",
   "execution_count": 40,
   "id": "a6cda817-fc7e-46dd-85aa-9135e9bf9433",
   "metadata": {},
   "outputs": [
    {
     "name": "stdout",
     "output_type": "stream",
     "text": [
      "      MATRICULA DISCIPLINA  SM_REALIZADA  TOTAL_ACESSOS  TEMPO_ACESSOS  \\\n",
      "0  202204035316    DGT0336             1            0.0            0.0   \n",
      "1  202110113321    CCJ0164             0           15.0          331.0   \n",
      "2  202001682635    DGT0002             1           25.0          434.0   \n",
      "3  202204035316    EEX0002             1            0.0            0.0   \n",
      "4  202201387645    CCE2063             1           63.0         3313.0   \n",
      "\n",
      "   AVALIACOES_REALIZADAS  \n",
      "0                   13.0  \n",
      "1                    1.0  \n",
      "2                    4.0  \n",
      "3                   13.0  \n",
      "4                   27.0  \n"
     ]
    }
   ],
   "source": [
    "#Removing specified columns\n",
    "colunas_para_remover = ['DATA_HORA_ACESSO', 'TEMPO_ACESSO_MINUTOS', 'DATA_HORA_AVALIACAO', 'TIPO_AVALIACAO']\n",
    "df_merged_nova = df_merged.drop(columns=colunas_para_remover)\n",
    "\n",
    "#remove duplicates and keep first\n",
    "df_merged_nova = df_merged_nova.drop_duplicates(keep='first')\n",
    "\n",
    "#Print result\n",
    "print(df_merged_nova.head())\n"
   ]
  },
  {
   "cell_type": "code",
   "execution_count": 41,
   "id": "63a308e9-ebc0-401a-a109-3837d49bd91b",
   "metadata": {},
   "outputs": [
    {
     "name": "stdout",
     "output_type": "stream",
     "text": [
      "<class 'pandas.core.frame.DataFrame'>\n",
      "Index: 1477654 entries, 0 to 80974212\n",
      "Data columns (total 6 columns):\n",
      " #   Column                 Non-Null Count    Dtype  \n",
      "---  ------                 --------------    -----  \n",
      " 0   MATRICULA              1477654 non-null  int64  \n",
      " 1   DISCIPLINA             1477654 non-null  object \n",
      " 2   SM_REALIZADA           1477654 non-null  int64  \n",
      " 3   TOTAL_ACESSOS          1477654 non-null  float64\n",
      " 4   TEMPO_ACESSOS          1477654 non-null  float64\n",
      " 5   AVALIACOES_REALIZADAS  1477654 non-null  float64\n",
      "dtypes: float64(3), int64(2), object(1)\n",
      "memory usage: 78.9+ MB\n"
     ]
    }
   ],
   "source": [
    "df_merged_nova.info()"
   ]
  },
  {
   "cell_type": "code",
   "execution_count": 42,
   "id": "8df081ef-abfa-4780-a949-707c2453211c",
   "metadata": {},
   "outputs": [
    {
     "data": {
      "text/plain": [
       "<bound method NDFrame.head of              MATRICULA DISCIPLINA  SM_REALIZADA  TOTAL_ACESSOS  TEMPO_ACESSOS  \\\n",
       "0         202204035316    DGT0336             1            0.0            0.0   \n",
       "1         202110113321    CCJ0164             0           15.0          331.0   \n",
       "2         202001682635    DGT0002             1           25.0          434.0   \n",
       "3         202204035316    EEX0002             1            0.0            0.0   \n",
       "4         202201387645    CCE2063             1           63.0         3313.0   \n",
       "...                ...        ...           ...            ...            ...   \n",
       "80974206  202108798835    CCA1318             0            6.0           56.0   \n",
       "80974207  202109296698    CCA1318             1            2.0          105.0   \n",
       "80974208  202108315559    EEX0122             0            1.0            4.0   \n",
       "80974209  201803012412    CEL1370             1           80.0          184.0   \n",
       "80974212  201912005034    EEL0015             1           17.0          544.0   \n",
       "\n",
       "          AVALIACOES_REALIZADAS  \n",
       "0                          13.0  \n",
       "1                           1.0  \n",
       "2                           4.0  \n",
       "3                          13.0  \n",
       "4                          27.0  \n",
       "...                         ...  \n",
       "80974206                   13.0  \n",
       "80974207                   11.0  \n",
       "80974208                    0.0  \n",
       "80974209                   42.0  \n",
       "80974212                   15.0  \n",
       "\n",
       "[1477654 rows x 6 columns]>"
      ]
     },
     "execution_count": 42,
     "metadata": {},
     "output_type": "execute_result"
    }
   ],
   "source": [
    "df_merged_nova.head"
   ]
  },
  {
   "cell_type": "code",
   "execution_count": 43,
   "id": "378fb45d-0dcd-4a48-8350-7a5415909f9a",
   "metadata": {},
   "outputs": [],
   "source": [
    "df_merged_nova.reset_index(drop=True, inplace=True)"
   ]
  },
  {
   "cell_type": "code",
   "execution_count": 44,
   "id": "a784b019-36e4-4ea6-ab5a-8e02a6bb0a42",
   "metadata": {},
   "outputs": [
    {
     "name": "stdout",
     "output_type": "stream",
     "text": [
      "<class 'pandas.core.frame.DataFrame'>\n",
      "RangeIndex: 1477654 entries, 0 to 1477653\n",
      "Data columns (total 6 columns):\n",
      " #   Column                 Non-Null Count    Dtype  \n",
      "---  ------                 --------------    -----  \n",
      " 0   MATRICULA              1477654 non-null  int64  \n",
      " 1   DISCIPLINA             1477654 non-null  object \n",
      " 2   SM_REALIZADA           1477654 non-null  int64  \n",
      " 3   TOTAL_ACESSOS          1477654 non-null  float64\n",
      " 4   TEMPO_ACESSOS          1477654 non-null  float64\n",
      " 5   AVALIACOES_REALIZADAS  1477654 non-null  float64\n",
      "dtypes: float64(3), int64(2), object(1)\n",
      "memory usage: 67.6+ MB\n"
     ]
    }
   ],
   "source": [
    "df_merged_nova.info()"
   ]
  },
  {
   "cell_type": "markdown",
   "id": "a0e941c1-7e5f-4d37-a38c-283cb18b5a49",
   "metadata": {},
   "source": [
    "The df_merged_nova table is now organized by the student-course unit, with the target (SM_REALIZADA), and the respective features in the table."
   ]
  },
  {
   "cell_type": "markdown",
   "id": "029b22a4-c861-442c-aedb-4ac2ac1e65ae",
   "metadata": {
    "jp-MarkdownHeadingCollapsed": true
   },
   "source": [
    "# 5. Scaling"
   ]
  },
  {
   "cell_type": "code",
   "execution_count": 45,
   "id": "20e9bbd4-29fc-42f3-be6a-7c9eb3366751",
   "metadata": {},
   "outputs": [
    {
     "name": "stdout",
     "output_type": "stream",
     "text": [
      "   SM_REALIZADA  TOTAL_ACESSOS  TEMPO_ACESSOS  AVALIACOES_REALIZADAS  \\\n",
      "0             1            0.0            0.0                   13.0   \n",
      "1             0           15.0          331.0                    1.0   \n",
      "2             1           25.0          434.0                    4.0   \n",
      "3             1            0.0            0.0                   13.0   \n",
      "4             1           63.0         3313.0                   27.0   \n",
      "\n",
      "   MATRICULA_DISCIPLINA  \n",
      "0  202204035316-DGT0336  \n",
      "1  202110113321-CCJ0164  \n",
      "2  202001682635-DGT0002  \n",
      "3  202204035316-EEX0002  \n",
      "4  202201387645-CCE2063  \n"
     ]
    }
   ],
   "source": [
    "#Unify the columns \"Matricula\" and \"Disciplina\", and keep only columns with quantitative values\n",
    "#Create a new column 'MATRICULA_DISCIPLINA' by combining the two columns.\n",
    "df_merged_nova['MATRICULA_DISCIPLINA'] = df_merged_nova['MATRICULA'].astype(str) + '-' + df_merged_nova['DISCIPLINA']\n",
    "\n",
    "#Remove old columns\n",
    "df_merged_nova = df_merged_nova.drop(columns=['MATRICULA', 'DISCIPLINA'])\n",
    "\n",
    "#Print resulting dataframe\n",
    "print(df_merged_nova.head())\n"
   ]
  },
  {
   "cell_type": "code",
   "execution_count": 46,
   "id": "7c17c5d9-60bb-4264-ae8f-ba86c51e2e49",
   "metadata": {},
   "outputs": [
    {
     "name": "stdout",
     "output_type": "stream",
     "text": [
      "   MATRICULA_DISCIPLINA  SM_REALIZADA  TOTAL_ACESSOS  TEMPO_ACESSOS  \\\n",
      "0  202204035316-DGT0336             1            0.0            0.0   \n",
      "1  202110113321-CCJ0164             0           15.0          331.0   \n",
      "2  202001682635-DGT0002             1           25.0          434.0   \n",
      "3  202204035316-EEX0002             1            0.0            0.0   \n",
      "4  202201387645-CCE2063             1           63.0         3313.0   \n",
      "\n",
      "   AVALIACOES_REALIZADAS  \n",
      "0                   13.0  \n",
      "1                    1.0  \n",
      "2                    4.0  \n",
      "3                   13.0  \n",
      "4                   27.0  \n"
     ]
    }
   ],
   "source": [
    "#Move 'MATRICULA_DISCIPLINA' to first\n",
    "colunas = ['MATRICULA_DISCIPLINA'] + [col for col in df_merged_nova.columns if col != 'MATRICULA_DISCIPLINA']\n",
    "df_merged_nova = df_merged_nova[colunas]\n",
    "\n",
    "#Print\n",
    "print(df_merged_nova.head())"
   ]
  },
  {
   "cell_type": "code",
   "execution_count": 47,
   "id": "484ce57f-1022-41a4-afac-088c3ff4d2ce",
   "metadata": {
    "scrolled": true
   },
   "outputs": [
    {
     "name": "stdout",
     "output_type": "stream",
     "text": [
      "SM_REALIZADA\n",
      "1    1076347\n",
      "0     401307\n",
      "Name: count, dtype: int64\n"
     ]
    }
   ],
   "source": [
    "#count values\n",
    "sm_counts = df_merged_nova['SM_REALIZADA'].value_counts()\n",
    "\n",
    "print(sm_counts)"
   ]
  },
  {
   "cell_type": "markdown",
   "id": "b928b236-e1cf-4207-84f7-469a5605742d",
   "metadata": {},
   "source": [
    "Normalize with 0 as the minimum value and 1 as the maximum value using MinMaxScaler"
   ]
  },
  {
   "cell_type": "code",
   "execution_count": 48,
   "id": "92aa19c2-fa78-4ea5-aa02-223e5176ef2c",
   "metadata": {},
   "outputs": [
    {
     "name": "stdout",
     "output_type": "stream",
     "text": [
      "   MATRICULA_DISCIPLINA  SM_REALIZADA  TOTAL_ACESSOS  TEMPO_ACESSOS  \\\n",
      "0  202204035316-DGT0336           1.0       0.000000       0.000000   \n",
      "1  202110113321-CCJ0164           0.0       0.011005       0.010688   \n",
      "2  202001682635-DGT0002           1.0       0.018342       0.014014   \n",
      "3  202204035316-EEX0002           1.0       0.000000       0.000000   \n",
      "4  202201387645-CCE2063           1.0       0.046222       0.106978   \n",
      "\n",
      "   AVALIACOES_REALIZADAS  \n",
      "0               0.004410  \n",
      "1               0.000339  \n",
      "2               0.001357  \n",
      "3               0.004410  \n",
      "4               0.009159  \n"
     ]
    }
   ],
   "source": [
    "from sklearn.preprocessing import MinMaxScaler\n",
    "\n",
    "#Select only numeric columns\n",
    "colunas_numericas = df_merged_nova.select_dtypes(include=['float64', 'int64']).columns\n",
    "\n",
    "#Initialize scaler\n",
    "scaler = MinMaxScaler()\n",
    "\n",
    "#Apply scaler on numeric columns\n",
    "df_merged_nova[colunas_numericas] = scaler.fit_transform(df_merged_nova[colunas_numericas])\n",
    "\n",
    "#Print normalized dataframe\n",
    "print(df_merged_nova.head())\n"
   ]
  },
  {
   "cell_type": "markdown",
   "id": "54368138-2308-4ec5-b851-15a1a6e3c494",
   "metadata": {
    "jp-MarkdownHeadingCollapsed": true
   },
   "source": [
    "# 6. Split dataframe to train and test"
   ]
  },
  {
   "cell_type": "code",
   "execution_count": 49,
   "id": "45f25884-90fa-4fe2-ae60-029a6fea56dc",
   "metadata": {},
   "outputs": [
    {
     "name": "stdout",
     "output_type": "stream",
     "text": [
      "Tamanho do conjunto de treino: (1182123, 4)\n",
      "Tamanho do conjunto de teste: (295531, 4)\n"
     ]
    }
   ],
   "source": [
    "from sklearn.model_selection import train_test_split\n",
    "\n",
    "#Defite features x and targey y\n",
    "#with'SM_REALIZADA' being target\n",
    "X = df_merged_nova.drop(columns=['SM_REALIZADA'])  #Features (remove target)\n",
    "y = df_merged_nova['SM_REALIZADA']                #Target\n",
    "\n",
    "#Train (80%) e test (20%)\n",
    "X_train, X_test, y_train, y_test = train_test_split(X, y, test_size=0.2, random_state=42, stratify=y)\n",
    "\n",
    "#print respective sizes\n",
    "print(\"Tamanho do conjunto de treino:\", X_train.shape)\n",
    "print(\"Tamanho do conjunto de teste:\", X_test.shape)\n"
   ]
  },
  {
   "cell_type": "markdown",
   "id": "d38695ab-5f90-4e8e-abb1-359e2b2bbaa4",
   "metadata": {
    "jp-MarkdownHeadingCollapsed": true
   },
   "source": [
    "# 7. Choosing performance metric of the algorithm"
   ]
  },
  {
   "cell_type": "markdown",
   "id": "bc3d6344-0700-48f6-b717-b1c8e7332de6",
   "metadata": {},
   "source": [
    "The main metric chosen was recall, which helps us understand if the model correctly identified the students who actually dropped out. The chosen algorithm was random forest, which provides robustness against overfitting—an important factor when working with large and complex datasets. In practice, overfitting occurs when the model is too closely fitted to the training data, struggling to generalize to the broader characteristics of the dataframe that might appear in the test."
   ]
  },
  {
   "cell_type": "code",
   "execution_count": 51,
   "id": "8d65fffc-48b6-43cc-92e9-519f948b1c27",
   "metadata": {},
   "outputs": [],
   "source": [
    "from sklearn.metrics import accuracy_score, classification_report\n"
   ]
  },
  {
   "cell_type": "markdown",
   "id": "881babb2-c032-440c-a36d-09fc981cd77b",
   "metadata": {
    "jp-MarkdownHeadingCollapsed": true
   },
   "source": [
    "# 8. Training and evaluating the model's performance"
   ]
  },
  {
   "cell_type": "code",
   "execution_count": 52,
   "id": "ef729dd9-541b-40a7-83e4-d1a5cf02d376",
   "metadata": {},
   "outputs": [
    {
     "name": "stdout",
     "output_type": "stream",
     "text": [
      "Acurácia: 0.9731432573909337\n",
      "Relatório de Classificação:\n",
      "               precision    recall  f1-score   support\n",
      "\n",
      "         0.0       0.95      0.95      0.95     80261\n",
      "         1.0       0.98      0.98      0.98    215270\n",
      "\n",
      "    accuracy                           0.97    295531\n",
      "   macro avg       0.97      0.96      0.97    295531\n",
      "weighted avg       0.97      0.97      0.97    295531\n",
      "\n"
     ]
    }
   ],
   "source": [
    "X_train = X_train.drop(columns=['MATRICULA_DISCIPLINA'])\n",
    "X_test = X_test.drop(columns=['MATRICULA_DISCIPLINA'])\n",
    "\n",
    "from sklearn.ensemble import RandomForestClassifier\n",
    "\n",
    "#Instance the model\n",
    "model = RandomForestClassifier(random_state=42)\n",
    "\n",
    "#Training the model\n",
    "model.fit(X_train, y_train)\n",
    "\n",
    "#Predictions\n",
    "y_pred = model.predict(X_test)\n",
    "#Evaluate the model\n",
    "print(\"Acurácia:\", accuracy_score(y_test, y_pred))\n",
    "print(\"Relatório de Classificação:\\n\", classification_report(y_test, y_pred))"
   ]
  },
  {
   "cell_type": "markdown",
   "id": "da730f3b-6e5c-4eab-9853-851e0489eb9e",
   "metadata": {},
   "source": [
    "A recall value of 95% for the class that is dropping out means that only approximately 5% were incorrectly identified."
   ]
  },
  {
   "cell_type": "code",
   "execution_count": 53,
   "id": "e549e493-1d50-480e-8a6d-4b130fd49959",
   "metadata": {},
   "outputs": [
    {
     "data": {
      "text/plain": [
       "<sklearn.metrics._plot.confusion_matrix.ConfusionMatrixDisplay at 0x1b30b202ae0>"
      ]
     },
     "execution_count": 53,
     "metadata": {},
     "output_type": "execute_result"
    },
    {
     "data": {
      "image/png": "[encoded data removed]",
      "text/plain": [
       "<Figure size 640x480 with 2 Axes>"
      ]
     },
     "metadata": {},
     "output_type": "display_data"
    }
   ],
   "source": [
    "from sklearn.metrics import confusion_matrix, ConfusionMatrixDisplay\n",
    "\n",
    "#Calculate confusion matrix\n",
    "cm = confusion_matrix(y_test, y_pred)\n",
    "\n",
    "#print confusion matrix\n",
    "disp = ConfusionMatrixDisplay(confusion_matrix=cm, display_labels=model.classes_)\n",
    "disp.plot(cmap=\"Blues\")\n"
   ]
  },
  {
   "cell_type": "markdown",
   "id": "3e7be220-6423-4c6e-84b7-da62e4fa5d38",
   "metadata": {},
   "source": [
    "The confusion matrix shows that the model correctly identified 211,618 (98.3%) students who took the SM and incorrectly identified 3,652 (1.7%).\n",
    "\n",
    "As for the students who did not take the SM (which are our primary focus), the model correctly identified 75,976 (94.7%) of them and incorrectly identified 4,285 (5.3%)."
   ]
  },
  {
   "cell_type": "markdown",
   "id": "2c43792c-75ec-42c5-ace9-2e60de8ff1e7",
   "metadata": {},
   "source": [
    "Conclusion\n",
    "\n",
    "A machine learning model was developed based on the premise that students who do not take the SM assessment have a high likelihood of dropping out at the end of the semester. The variables considered to identify these students were:\n",
    "\n",
    "Total minutes of access\n",
    "Total number of accesses\n",
    "Total number of assessments completed\n",
    "The results for identifying students who did not take the SM:\n",
    "\n",
    "- Accuracy: 97.3%\n",
    "- Recall (for students who did not take the SM): 95%\n",
    "- Precision (for students who did not take the SM): 95%\n",
    "- F1-Score (for students who did not take the SM): 95%\n",
    "\n",
    "\n",
    "The result of the metrics validates the variables used and makes them good indicators for understanding the risk of dropout. They also indicate that the model is efficient in identifying students who did not take the SM, which is the focus of the research and crucial for validating strategic implementations aimed at minimizing student dropout."
   ]
  },
  {
   "cell_type": "code",
   "execution_count": null,
   "id": "df32dce9-6f9e-4df6-a496-152c8e9fd16e",
   "metadata": {},
   "outputs": [],
   "source": []
  }
 ],
 "metadata": {
  "kernelspec": {
   "display_name": "Python 3 (ipykernel)",
   "language": "python",
   "name": "python3"
  },
  "language_info": {
   "codemirror_mode": {
    "name": "ipython",
    "version": 3
   },
   "file_extension": ".py",
   "mimetype": "text/x-python",
   "name": "python",
   "nbconvert_exporter": "python",
   "pygments_lexer": "ipython3",
   "version": "3.11.5"
  }
 },
 "nbformat": 4,
 "nbformat_minor": 5
}
